{
  "nbformat": 4,
  "nbformat_minor": 0,
  "metadata": {
    "colab": {
      "name": "Untitled1.ipynb",
      "provenance": [],
      "authorship_tag": "ABX9TyMdE+TWun+fnDDCBQHnuVUa",
      "include_colab_link": true
    },
    "kernelspec": {
      "name": "python3",
      "display_name": "Python 3"
    },
    "language_info": {
      "name": "python"
    }
  },
  "cells": [
    {
      "cell_type": "markdown",
      "metadata": {
        "id": "view-in-github",
        "colab_type": "text"
      },
      "source": [
        "<a href=\"https://colab.research.google.com/github/OrleansKlaus/Python/blob/master/Prova_Ciencias_Dados.ipynb\" target=\"_parent\"><img src=\"https://colab.research.google.com/assets/colab-badge.svg\" alt=\"Open In Colab\"/></a>"
      ]
    },
    {
      "cell_type": "code",
      "metadata": {
        "colab": {
          "base_uri": "https://localhost:8080/"
        },
        "id": "0Ihvye2kq5o0",
        "outputId": "a53582eb-5621-45f8-8d3a-40de26c3b0f6"
      },
      "source": [
        "var1 = 12\n",
        "var2 = 30\n",
        "var3 = var1 + var2\n",
        "\n",
        "print(var3)\n",
        "\n",
        "var3 = var3 // 2\n",
        "\n",
        "print(var3)"
      ],
      "execution_count": 2,
      "outputs": [
        {
          "output_type": "stream",
          "text": [
            "42\n",
            "21\n"
          ],
          "name": "stdout"
        }
      ]
    },
    {
      "cell_type": "code",
      "metadata": {
        "colab": {
          "base_uri": "https://localhost:8080/"
        },
        "id": "jhp1fJAXrUj_",
        "outputId": "8fe1a45a-5086-48ff-f628-170f349ac226"
      },
      "source": [
        "\n",
        "num1 = float(input(\"Digite um número a seguir: \"))\n",
        "\n",
        "dobro = 2*num1\n",
        "\n",
        "print(\"O dobro do número digitado é:\", dobro)"
      ],
      "execution_count": 25,
      "outputs": [
        {
          "output_type": "stream",
          "text": [
            "Digite um número a seguir: 6.4\n",
            "O dobro do número digitado é: 12.8\n"
          ],
          "name": "stdout"
        }
      ]
    },
    {
      "cell_type": "code",
      "metadata": {
        "colab": {
          "base_uri": "https://localhost:8080/"
        },
        "id": "OCPwyH4TscI3",
        "outputId": "11b0654c-08d5-4206-85e4-950796e9f9b8"
      },
      "source": [
        "x = 10\n",
        "y = 4.2\n",
        "\n",
        "num = float(input(\"Digite um número a seguir: \"))\n",
        "\n",
        "print(num > x*y, num <= x + y, num*y != x*y)\n",
        "\n",
        "print(num == x, num == y, num == x + y)\n",
        "\n",
        "\n",
        "print(2 == 2, False, 2.0 == 2)\n",
        "\n",
        "print(True, False, False)\n",
        "\n",
        "print(num == x*y, num*y == x*y, y > x + num)\n",
        "\n",
        "\n",
        "print(False, True, True)\n"
      ],
      "execution_count": 58,
      "outputs": [
        {
          "output_type": "stream",
          "text": [
            "Digite um número a seguir: 10\n",
            "False True False\n",
            "True False False\n",
            "True False True\n",
            "True False False\n",
            "False True False\n",
            "False True True\n"
          ],
          "name": "stdout"
        }
      ]
    },
    {
      "cell_type": "code",
      "metadata": {
        "colab": {
          "base_uri": "https://localhost:8080/"
        },
        "id": "gvS81uPYuocY",
        "outputId": "29a4fc4d-4a7c-4c0c-ad71-b951247f3783"
      },
      "source": [
        "x = 4.2\n",
        "y = 10\n",
        "z = \"42\"\n",
        "\n",
        "print(not (((x * y == z) and not (x < y)) or y % 2 == 0))\n",
        "\n",
        "print(not (not (x < y and x * y == z)) or (x >= y or y % 2 == 0)) \n",
        "\n",
        "print(not False)\n",
        "\n",
        "print((True and True) or not True)\n",
        "\n",
        "print(not (((not True) or int(z) % 7 == 0) and ((str(int(x*y)) == z) and (type(x) != type(z)))))"
      ],
      "execution_count": 54,
      "outputs": [
        {
          "output_type": "stream",
          "text": [
            "False\n",
            "True\n",
            "True\n",
            "True\n",
            "False\n"
          ],
          "name": "stdout"
        }
      ]
    },
    {
      "cell_type": "code",
      "metadata": {
        "colab": {
          "base_uri": "https://localhost:8080/"
        },
        "id": "fyDfjliGwncq",
        "outputId": "abd5fe18-a09d-47d2-ef97-7b8ec4c08988"
      },
      "source": [
        "x = 4.2\n",
        "y = 10\n",
        "z = \"42\"\n",
        "\n",
        "\n",
        "not (((not True) or int(z) % 7 == 0) and ((str(int(x*y)) == z) and (type(x) != type(z))))"
      ],
      "execution_count": 51,
      "outputs": [
        {
          "output_type": "execute_result",
          "data": {
            "text/plain": [
              "False"
            ]
          },
          "metadata": {
            "tags": []
          },
          "execution_count": 51
        }
      ]
    },
    {
      "cell_type": "code",
      "metadata": {
        "colab": {
          "base_uri": "https://localhost:8080/"
        },
        "id": "TlmxXYXcx91P",
        "outputId": "745504c9-1631-4fc5-cee1-c934d9e17aa2"
      },
      "source": [
        "a = int(input(\"Digite o primeiro número inteiro: \"))\n",
        "b = int(input(\"Digite o segundo número inteiro: \"))\n",
        "c = int(input(\"Digite o terceiro número inteiro: \"))\n",
        "\n",
        "if a > b and a > c:\n",
        "    resposta = a % 2 == 0\n",
        "elif b > a and b > c:\n",
        "    resposta = b % 2 == 0\n",
        "else:\n",
        "    resposta = c % 2 == 0\n",
        "\n",
        "print(\"“O maior número entre os três informados é par?”,\", resposta)"
      ],
      "execution_count": 63,
      "outputs": [
        {
          "output_type": "stream",
          "text": [
            "Digite o primeiro número inteiro: 5\n",
            "Digite o segundo número inteiro: 7\n",
            "Digite o terceiro número inteiro: 9\n",
            "“O maior número entre os três informados é par?” False\n"
          ],
          "name": "stdout"
        }
      ]
    },
    {
      "cell_type": "code",
      "metadata": {
        "colab": {
          "base_uri": "https://localhost:8080/"
        },
        "id": "BZYndw-2zjlI",
        "outputId": "8bca201c-a2a8-4322-f2c2-4e5f06b577a0"
      },
      "source": [
        "x = int(input(\"Digite um número inteiro: \"))\n",
        "\n",
        "if x < 0:\n",
        "    resp1 = \"negativo\"\n",
        "else:\n",
        "    resp1 = \"positivo\"\n",
        "    \n",
        "if (x % 2 == 0):\n",
        "    resp2 = \"par\"\n",
        "else:\n",
        "    resp2 = \"impar\"\n",
        "    \n",
        "\n",
        "print(\"\\nO número {} é {} e {}.\".format(x, resp1, resp2))"
      ],
      "execution_count": 70,
      "outputs": [
        {
          "output_type": "stream",
          "text": [
            "Digite um número inteiro: -42\n",
            "\n",
            "O número -42 é negativo e par.\n"
          ],
          "name": "stdout"
        }
      ]
    },
    {
      "cell_type": "code",
      "metadata": {
        "colab": {
          "base_uri": "https://localhost:8080/"
        },
        "id": "NWNxD-MW0xXQ",
        "outputId": "0fd509db-10b3-4d51-c6d0-14b9358bffdc"
      },
      "source": [
        "cont = 0\n",
        "resultado = 0\n",
        "n = 100\n",
        "\n",
        "while cont != n:\n",
        "    resultado = resultado + 1/(2**cont)\n",
        "    print(resultado)\n",
        "    cont = cont + 1\n",
        "    print(cont)\n",
        "\n",
        "print(resultado)"
      ],
      "execution_count": 77,
      "outputs": [
        {
          "output_type": "stream",
          "text": [
            "1.0\n",
            "1\n",
            "1.5\n",
            "2\n",
            "1.75\n",
            "3\n",
            "1.875\n",
            "4\n",
            "1.9375\n",
            "5\n",
            "1.96875\n",
            "6\n",
            "1.984375\n",
            "7\n",
            "1.9921875\n",
            "8\n",
            "1.99609375\n",
            "9\n",
            "1.998046875\n",
            "10\n",
            "1.9990234375\n",
            "11\n",
            "1.99951171875\n",
            "12\n",
            "1.999755859375\n",
            "13\n",
            "1.9998779296875\n",
            "14\n",
            "1.99993896484375\n",
            "15\n",
            "1.999969482421875\n",
            "16\n",
            "1.9999847412109375\n",
            "17\n",
            "1.9999923706054688\n",
            "18\n",
            "1.9999961853027344\n",
            "19\n",
            "1.9999980926513672\n",
            "20\n",
            "1.9999990463256836\n",
            "21\n",
            "1.9999995231628418\n",
            "22\n",
            "1.999999761581421\n",
            "23\n",
            "1.9999998807907104\n",
            "24\n",
            "1.9999999403953552\n",
            "25\n",
            "1.9999999701976776\n",
            "26\n",
            "1.9999999850988388\n",
            "27\n",
            "1.9999999925494194\n",
            "28\n",
            "1.9999999962747097\n",
            "29\n",
            "1.9999999981373549\n",
            "30\n",
            "1.9999999990686774\n",
            "31\n",
            "1.9999999995343387\n",
            "32\n",
            "1.9999999997671694\n",
            "33\n",
            "1.9999999998835847\n",
            "34\n",
            "1.9999999999417923\n",
            "35\n",
            "1.9999999999708962\n",
            "36\n",
            "1.999999999985448\n",
            "37\n",
            "1.999999999992724\n",
            "38\n",
            "1.999999999996362\n",
            "39\n",
            "1.999999999998181\n",
            "40\n",
            "1.9999999999990905\n",
            "41\n",
            "1.9999999999995453\n",
            "42\n",
            "1.9999999999997726\n",
            "43\n",
            "1.9999999999998863\n",
            "44\n",
            "1.9999999999999432\n",
            "45\n",
            "1.9999999999999716\n",
            "46\n",
            "1.9999999999999858\n",
            "47\n",
            "1.999999999999993\n",
            "48\n",
            "1.9999999999999964\n",
            "49\n",
            "1.9999999999999982\n",
            "50\n",
            "1.9999999999999991\n",
            "51\n",
            "1.9999999999999996\n",
            "52\n",
            "1.9999999999999998\n",
            "53\n",
            "2.0\n",
            "54\n",
            "2.0\n",
            "55\n",
            "2.0\n",
            "56\n",
            "2.0\n",
            "57\n",
            "2.0\n",
            "58\n",
            "2.0\n",
            "59\n",
            "2.0\n",
            "60\n",
            "2.0\n",
            "61\n",
            "2.0\n",
            "62\n",
            "2.0\n",
            "63\n",
            "2.0\n",
            "64\n",
            "2.0\n",
            "65\n",
            "2.0\n",
            "66\n",
            "2.0\n",
            "67\n",
            "2.0\n",
            "68\n",
            "2.0\n",
            "69\n",
            "2.0\n",
            "70\n",
            "2.0\n",
            "71\n",
            "2.0\n",
            "72\n",
            "2.0\n",
            "73\n",
            "2.0\n",
            "74\n",
            "2.0\n",
            "75\n",
            "2.0\n",
            "76\n",
            "2.0\n",
            "77\n",
            "2.0\n",
            "78\n",
            "2.0\n",
            "79\n",
            "2.0\n",
            "80\n",
            "2.0\n",
            "81\n",
            "2.0\n",
            "82\n",
            "2.0\n",
            "83\n",
            "2.0\n",
            "84\n",
            "2.0\n",
            "85\n",
            "2.0\n",
            "86\n",
            "2.0\n",
            "87\n",
            "2.0\n",
            "88\n",
            "2.0\n",
            "89\n",
            "2.0\n",
            "90\n",
            "2.0\n",
            "91\n",
            "2.0\n",
            "92\n",
            "2.0\n",
            "93\n",
            "2.0\n",
            "94\n",
            "2.0\n",
            "95\n",
            "2.0\n",
            "96\n",
            "2.0\n",
            "97\n",
            "2.0\n",
            "98\n",
            "2.0\n",
            "99\n",
            "2.0\n",
            "100\n",
            "2.0\n"
          ],
          "name": "stdout"
        }
      ]
    },
    {
      "cell_type": "code",
      "metadata": {
        "colab": {
          "base_uri": "https://localhost:8080/"
        },
        "id": "2GrygFZ52Acy",
        "outputId": "378f8bca-0438-4cb8-9a60-24dec5c84f27"
      },
      "source": [
        "for _ in range(10):\n",
        "    print(\"Olá, mundo!\") "
      ],
      "execution_count": 81,
      "outputs": [
        {
          "output_type": "stream",
          "text": [
            "Olá, mundo!\n",
            "Olá, mundo!\n",
            "Olá, mundo!\n",
            "Olá, mundo!\n",
            "Olá, mundo!\n",
            "Olá, mundo!\n",
            "Olá, mundo!\n",
            "Olá, mundo!\n",
            "Olá, mundo!\n",
            "Olá, mundo!\n"
          ],
          "name": "stdout"
        }
      ]
    },
    {
      "cell_type": "code",
      "metadata": {
        "colab": {
          "base_uri": "https://localhost:8080/"
        },
        "id": "GRkyA0SE2YjP",
        "outputId": "20b76dac-21d0-488f-ee4a-ace1ab2118e4"
      },
      "source": [
        "for _ in \"let's code\":\n",
        "    print(\"Olá, mundo!\")"
      ],
      "execution_count": 82,
      "outputs": [
        {
          "output_type": "stream",
          "text": [
            "Olá, mundo!\n",
            "Olá, mundo!\n",
            "Olá, mundo!\n",
            "Olá, mundo!\n",
            "Olá, mundo!\n",
            "Olá, mundo!\n",
            "Olá, mundo!\n",
            "Olá, mundo!\n",
            "Olá, mundo!\n",
            "Olá, mundo!\n"
          ],
          "name": "stdout"
        }
      ]
    },
    {
      "cell_type": "code",
      "metadata": {
        "colab": {
          "base_uri": "https://localhost:8080/"
        },
        "id": "b-LkjHvd2dgH",
        "outputId": "1706dd28-7d5f-4bd9-83a9-156230a0b759"
      },
      "source": [
        "for _ in \" \"*10:\n",
        "    print(\"Olá, mundo!\")"
      ],
      "execution_count": 83,
      "outputs": [
        {
          "output_type": "stream",
          "text": [
            "Olá, mundo!\n",
            "Olá, mundo!\n",
            "Olá, mundo!\n",
            "Olá, mundo!\n",
            "Olá, mundo!\n",
            "Olá, mundo!\n",
            "Olá, mundo!\n",
            "Olá, mundo!\n",
            "Olá, mundo!\n",
            "Olá, mundo!\n"
          ],
          "name": "stdout"
        }
      ]
    },
    {
      "cell_type": "code",
      "metadata": {
        "colab": {
          "base_uri": "https://localhost:8080/"
        },
        "id": "DqDqebzY2iw3",
        "outputId": "1e4398e1-d8ed-4cee-e236-690904f3a0b9"
      },
      "source": [
        "for _ in range(10, 20, 1):\n",
        "    print(\"Olá, mundo!\")"
      ],
      "execution_count": 84,
      "outputs": [
        {
          "output_type": "stream",
          "text": [
            "Olá, mundo!\n",
            "Olá, mundo!\n",
            "Olá, mundo!\n",
            "Olá, mundo!\n",
            "Olá, mundo!\n",
            "Olá, mundo!\n",
            "Olá, mundo!\n",
            "Olá, mundo!\n",
            "Olá, mundo!\n",
            "Olá, mundo!\n"
          ],
          "name": "stdout"
        }
      ]
    },
    {
      "cell_type": "code",
      "metadata": {
        "colab": {
          "base_uri": "https://localhost:8080/"
        },
        "id": "cRhp3gVs2mUI",
        "outputId": "f9356a55-e036-433f-f801-58665437aac9"
      },
      "source": [
        "for _ in [10]:\n",
        "    print(\"Olá, mundo!\")"
      ],
      "execution_count": 85,
      "outputs": [
        {
          "output_type": "stream",
          "text": [
            "Olá, mundo!\n"
          ],
          "name": "stdout"
        }
      ]
    },
    {
      "cell_type": "code",
      "metadata": {
        "colab": {
          "base_uri": "https://localhost:8080/"
        },
        "id": "86r6y70u2qBY",
        "outputId": "0d36a614-3e59-4f1b-bb01-7de74c4a9921"
      },
      "source": [
        "for _ in [10]*10:\n",
        "    print(\"Olá, mundo!\")"
      ],
      "execution_count": 86,
      "outputs": [
        {
          "output_type": "stream",
          "text": [
            "Olá, mundo!\n",
            "Olá, mundo!\n",
            "Olá, mundo!\n",
            "Olá, mundo!\n",
            "Olá, mundo!\n",
            "Olá, mundo!\n",
            "Olá, mundo!\n",
            "Olá, mundo!\n",
            "Olá, mundo!\n",
            "Olá, mundo!\n"
          ],
          "name": "stdout"
        }
      ]
    },
    {
      "cell_type": "code",
      "metadata": {
        "colab": {
          "base_uri": "https://localhost:8080/"
        },
        "id": "hReSZkM-2xv3",
        "outputId": "803b520c-79d3-438c-a995-0bca8027c903"
      },
      "source": [
        "lista_inicial = [10, 5, -7, 6, -42, 63, -8, -5, 13]\n",
        "\n",
        "lista_final = []\n",
        "\n",
        "for item in lista_inicial:\n",
        "    if item % 2 == 0:\n",
        "        if item < 0:\n",
        "            lista_final.append(-item)\n",
        "        else:\n",
        "            lista_final.append(item)\n",
        "    else:\n",
        "        if item < 0:\n",
        "            lista_final.append(-2*item)\n",
        "        else:\n",
        "            lista_final.append(2*item)\n",
        "\n",
        "print(lista_final)\n",
        "print(\"A = [20, 5, 7, 12, 84, 63, 16, 5, 13]\")\n",
        "print(\"C = [-20, -5, -7, -12, -84, -63, -16, -5, -13]\")\n",
        "print(\"E = [20, 5, 14, 12, 42, 63, 8, 10, 13]\")\n",
        "\n",
        "print()\n",
        "print(\"Resposta B = [10, 10, 14, 6, 42, 126, 8, 10, 26]\")\n"
      ],
      "execution_count": 97,
      "outputs": [
        {
          "output_type": "stream",
          "text": [
            "[10, 10, 14, 6, 42, 126, 8, 10, 26]\n",
            "A = [20, 5, 7, 12, 84, 63, 16, 5, 13]\n",
            "C = [-20, -5, -7, -12, -84, -63, -16, -5, -13]\n",
            "E = [20, 5, 14, 12, 42, 63, 8, 10, 13]\n",
            "\n",
            "Resposta B = [10, 10, 14, 6, 42, 126, 8, 10, 26]\n"
          ],
          "name": "stdout"
        }
      ]
    },
    {
      "cell_type": "code",
      "metadata": {
        "colab": {
          "base_uri": "https://localhost:8080/"
        },
        "id": "O5vQfzd53YmM",
        "outputId": "b73b6020-7078-4ee3-90d0-94b24a75c7fd"
      },
      "source": [
        "animais = ['gato', 'coelho', 'macaco', 'girafa']\n",
        "\n",
        "animais.remove('gato')\n",
        "print(animais)\n",
        "print(len(animais))\n",
        "print(animais.index('coelho'))"
      ],
      "execution_count": 100,
      "outputs": [
        {
          "output_type": "stream",
          "text": [
            "['coelho', 'macaco', 'girafa']\n",
            "3\n",
            "0\n"
          ],
          "name": "stdout"
        }
      ]
    },
    {
      "cell_type": "code",
      "metadata": {
        "colab": {
          "base_uri": "https://localhost:8080/"
        },
        "id": "0yEf2xiw45Ma",
        "outputId": "aa9fd34b-0e89-4e6d-ca86-4a2378e81836"
      },
      "source": [
        "cadastro = [\"da Silva, Dra. Maria Francisca\",\n",
        "            \"Santos de Souza, Sr. José Antônio\",\n",
        "            \"Lima Oliveira, Srta. Ana Paula\",\n",
        "            \"Pereira Costa, Dr. Antônio Marcos\",\n",
        "            \"Alves de Almeida, Sra. Fernanda\"]\n",
        "\n",
        "primeiros_nomes = []\n",
        "for x in cadastro:\n",
        "    primeiros_nomes.append(x.split(\",\")[0])\n",
        "\n",
        "sobrenomes = []\n",
        "for x in cadastro:\n",
        "    sobrenomes.append(x.split(\". \")[-1])\n",
        "\n",
        "titulos = []\n",
        "for x in cadastro:\n",
        "    titulos.append(x.split(\".\")[0].split(\", \")[-1])\n",
        "\n",
        "print(primeiros_nomes)\n",
        "print(sobrenomes)\n",
        "print(titulos)"
      ],
      "execution_count": 104,
      "outputs": [
        {
          "output_type": "stream",
          "text": [
            "['da Silva', 'Santos de Souza', 'Lima Oliveira', 'Pereira Costa', 'Alves de Almeida']\n",
            "['Maria Francisca', 'José Antônio', 'Ana Paula', 'Antônio Marcos', 'Fernanda']\n",
            "['Dra', 'Sr', 'Srta', 'Dr', 'Sra']\n"
          ],
          "name": "stdout"
        }
      ]
    },
    {
      "cell_type": "code",
      "metadata": {
        "colab": {
          "base_uri": "https://localhost:8080/"
        },
        "id": "F4WPiE9350o7",
        "outputId": "1fc80062-9a88-426d-91bb-f8281987ff2a"
      },
      "source": [
        "print(n)\n",
        "def f_it(n):\n",
        "    resultado = 1\n",
        "\n",
        "    for i in range(1, n+1, 1):\n",
        "        resultado = resultado * i\n",
        "  \n",
        "    return resultado\n",
        "print(resultado)"
      ],
      "execution_count": 129,
      "outputs": [
        {
          "output_type": "stream",
          "text": [
            "100\n",
            "2.0\n"
          ],
          "name": "stdout"
        }
      ]
    },
    {
      "cell_type": "code",
      "metadata": {
        "colab": {
          "base_uri": "https://localhost:8080/"
        },
        "id": "x6gMS68J6HTg",
        "outputId": "1389545d-818d-4031-bb52-e0e060b1d820"
      },
      "source": [
        "print(n)\n",
        "def f_rec(n):\n",
        "    if n == 0:\n",
        "        return 1\n",
        "    return f_rec(n)\n",
        "print(f_rec)   "
      ],
      "execution_count": 140,
      "outputs": [
        {
          "output_type": "stream",
          "text": [
            "100\n",
            "<function f_rec at 0x7f770bda9830>\n"
          ],
          "name": "stdout"
        }
      ]
    },
    {
      "cell_type": "code",
      "metadata": {
        "colab": {
          "base_uri": "https://localhost:8080/"
        },
        "id": "Mfy_-DPI7SQ6",
        "outputId": "62f5c8c1-35b1-44bd-e034-9739a369179a"
      },
      "source": [
        "def calc_media(*args):\n",
        "    soma = 0\n",
        "    n = 1\n",
        "    for item in args:\n",
        "        soma = soma + item\n",
        "        n = n * 1\n",
        "    return soma/n\n",
        "print(calc_media())"
      ],
      "execution_count": 138,
      "outputs": [
        {
          "output_type": "stream",
          "text": [
            "0.0\n"
          ],
          "name": "stdout"
        }
      ]
    },
    {
      "cell_type": "code",
      "metadata": {
        "colab": {
          "base_uri": "https://localhost:8080/"
        },
        "id": "VIv78uwI8qOc",
        "outputId": "5b33dd84-be11-4067-f665-40bfd416fa56"
      },
      "source": [
        "def calc_media(*args):\n",
        "    soma = 0\n",
        "    n = 0\n",
        "    for item in args:\n",
        "        soma = soma + item\n",
        "        n = n + 1\n",
        "    return soma\n",
        "print(calc_media())"
      ],
      "execution_count": 137,
      "outputs": [
        {
          "output_type": "stream",
          "text": [
            "0\n"
          ],
          "name": "stdout"
        }
      ]
    },
    {
      "cell_type": "code",
      "metadata": {
        "colab": {
          "base_uri": "https://localhost:8080/"
        },
        "id": "lX1m5Tlf8vyJ",
        "outputId": "606e037c-66c5-4989-ea17-e0dc1e2826e0"
      },
      "source": [
        "def calc_media(*args):\n",
        "    soma = 1\n",
        "    n = 1\n",
        "    for item in args:\n",
        "        soma = soma * item\n",
        "        n = n * 1\n",
        "    return soma/n\n",
        "print(calc_media())"
      ],
      "execution_count": 143,
      "outputs": [
        {
          "output_type": "stream",
          "text": [
            "1.0\n"
          ],
          "name": "stdout"
        }
      ]
    },
    {
      "cell_type": "code",
      "metadata": {
        "colab": {
          "base_uri": "https://localhost:8080/",
          "height": 299
        },
        "id": "GXzpbBnJ9FQB",
        "outputId": "c872e366-c6dd-4140-b87a-be08877b40e8"
      },
      "source": [
        "def calc_media(*args):\n",
        "    soma = 1\n",
        "    n = 0\n",
        "    for item in args:\n",
        "        soma = soma * item\n",
        "        n = n + 1\n",
        "    return soma/n\n",
        "print(calc_media())"
      ],
      "execution_count": 144,
      "outputs": [
        {
          "output_type": "error",
          "ename": "ZeroDivisionError",
          "evalue": "ignored",
          "traceback": [
            "\u001b[0;31m---------------------------------------------------------------------------\u001b[0m",
            "\u001b[0;31mZeroDivisionError\u001b[0m                         Traceback (most recent call last)",
            "\u001b[0;32m<ipython-input-144-baa3a53fc5ae>\u001b[0m in \u001b[0;36m<module>\u001b[0;34m()\u001b[0m\n\u001b[1;32m      6\u001b[0m         \u001b[0mn\u001b[0m \u001b[0;34m=\u001b[0m \u001b[0mn\u001b[0m \u001b[0;34m+\u001b[0m \u001b[0;36m1\u001b[0m\u001b[0;34m\u001b[0m\u001b[0;34m\u001b[0m\u001b[0m\n\u001b[1;32m      7\u001b[0m     \u001b[0;32mreturn\u001b[0m \u001b[0msoma\u001b[0m\u001b[0;34m/\u001b[0m\u001b[0mn\u001b[0m\u001b[0;34m\u001b[0m\u001b[0;34m\u001b[0m\u001b[0m\n\u001b[0;32m----> 8\u001b[0;31m \u001b[0mprint\u001b[0m\u001b[0;34m(\u001b[0m\u001b[0mcalc_media\u001b[0m\u001b[0;34m(\u001b[0m\u001b[0;34m)\u001b[0m\u001b[0;34m)\u001b[0m\u001b[0;34m\u001b[0m\u001b[0;34m\u001b[0m\u001b[0m\n\u001b[0m",
            "\u001b[0;32m<ipython-input-144-baa3a53fc5ae>\u001b[0m in \u001b[0;36mcalc_media\u001b[0;34m(*args)\u001b[0m\n\u001b[1;32m      5\u001b[0m         \u001b[0msoma\u001b[0m \u001b[0;34m=\u001b[0m \u001b[0msoma\u001b[0m \u001b[0;34m*\u001b[0m \u001b[0mitem\u001b[0m\u001b[0;34m\u001b[0m\u001b[0;34m\u001b[0m\u001b[0m\n\u001b[1;32m      6\u001b[0m         \u001b[0mn\u001b[0m \u001b[0;34m=\u001b[0m \u001b[0mn\u001b[0m \u001b[0;34m+\u001b[0m \u001b[0;36m1\u001b[0m\u001b[0;34m\u001b[0m\u001b[0;34m\u001b[0m\u001b[0m\n\u001b[0;32m----> 7\u001b[0;31m     \u001b[0;32mreturn\u001b[0m \u001b[0msoma\u001b[0m\u001b[0;34m/\u001b[0m\u001b[0mn\u001b[0m\u001b[0;34m\u001b[0m\u001b[0;34m\u001b[0m\u001b[0m\n\u001b[0m\u001b[1;32m      8\u001b[0m \u001b[0mprint\u001b[0m\u001b[0;34m(\u001b[0m\u001b[0mcalc_media\u001b[0m\u001b[0;34m(\u001b[0m\u001b[0;34m)\u001b[0m\u001b[0;34m)\u001b[0m\u001b[0;34m\u001b[0m\u001b[0;34m\u001b[0m\u001b[0m\n",
            "\u001b[0;31mZeroDivisionError\u001b[0m: division by zero"
          ]
        }
      ]
    },
    {
      "cell_type": "code",
      "metadata": {
        "colab": {
          "base_uri": "https://localhost:8080/",
          "height": 299
        },
        "id": "eZy7M9Vn9KrZ",
        "outputId": "ead73818-bf98-4751-80c3-0f803f0786ed"
      },
      "source": [
        "def calc_media(*args):\n",
        "    soma = 0\n",
        "    n = 0\n",
        "    for item in args:\n",
        "        soma = soma + item\n",
        "        n = n + 1\n",
        "    return soma/n\n",
        "print(calc_media())"
      ],
      "execution_count": 145,
      "outputs": [
        {
          "output_type": "error",
          "ename": "ZeroDivisionError",
          "evalue": "ignored",
          "traceback": [
            "\u001b[0;31m---------------------------------------------------------------------------\u001b[0m",
            "\u001b[0;31mZeroDivisionError\u001b[0m                         Traceback (most recent call last)",
            "\u001b[0;32m<ipython-input-145-4d26ba1d36bf>\u001b[0m in \u001b[0;36m<module>\u001b[0;34m()\u001b[0m\n\u001b[1;32m      6\u001b[0m         \u001b[0mn\u001b[0m \u001b[0;34m=\u001b[0m \u001b[0mn\u001b[0m \u001b[0;34m+\u001b[0m \u001b[0;36m1\u001b[0m\u001b[0;34m\u001b[0m\u001b[0;34m\u001b[0m\u001b[0m\n\u001b[1;32m      7\u001b[0m     \u001b[0;32mreturn\u001b[0m \u001b[0msoma\u001b[0m\u001b[0;34m/\u001b[0m\u001b[0mn\u001b[0m\u001b[0;34m\u001b[0m\u001b[0;34m\u001b[0m\u001b[0m\n\u001b[0;32m----> 8\u001b[0;31m \u001b[0mprint\u001b[0m\u001b[0;34m(\u001b[0m\u001b[0mcalc_media\u001b[0m\u001b[0;34m(\u001b[0m\u001b[0;34m)\u001b[0m\u001b[0;34m)\u001b[0m\u001b[0;34m\u001b[0m\u001b[0;34m\u001b[0m\u001b[0m\n\u001b[0m",
            "\u001b[0;32m<ipython-input-145-4d26ba1d36bf>\u001b[0m in \u001b[0;36mcalc_media\u001b[0;34m(*args)\u001b[0m\n\u001b[1;32m      5\u001b[0m         \u001b[0msoma\u001b[0m \u001b[0;34m=\u001b[0m \u001b[0msoma\u001b[0m \u001b[0;34m+\u001b[0m \u001b[0mitem\u001b[0m\u001b[0;34m\u001b[0m\u001b[0;34m\u001b[0m\u001b[0m\n\u001b[1;32m      6\u001b[0m         \u001b[0mn\u001b[0m \u001b[0;34m=\u001b[0m \u001b[0mn\u001b[0m \u001b[0;34m+\u001b[0m \u001b[0;36m1\u001b[0m\u001b[0;34m\u001b[0m\u001b[0;34m\u001b[0m\u001b[0m\n\u001b[0;32m----> 7\u001b[0;31m     \u001b[0;32mreturn\u001b[0m \u001b[0msoma\u001b[0m\u001b[0;34m/\u001b[0m\u001b[0mn\u001b[0m\u001b[0;34m\u001b[0m\u001b[0;34m\u001b[0m\u001b[0m\n\u001b[0m\u001b[1;32m      8\u001b[0m \u001b[0mprint\u001b[0m\u001b[0;34m(\u001b[0m\u001b[0mcalc_media\u001b[0m\u001b[0;34m(\u001b[0m\u001b[0;34m)\u001b[0m\u001b[0;34m)\u001b[0m\u001b[0;34m\u001b[0m\u001b[0;34m\u001b[0m\u001b[0m\n",
            "\u001b[0;31mZeroDivisionError\u001b[0m: division by zero"
          ]
        }
      ]
    },
    {
      "cell_type": "code",
      "metadata": {
        "colab": {
          "base_uri": "https://localhost:8080/"
        },
        "id": "JvEVyfrM9dnl",
        "outputId": "05f690fb-7151-48ec-93c4-7f1e9d7447c9"
      },
      "source": [
        "lista = ['7', '9', '6', '5', '9', '10', '7', '8', '10', '7', \n",
        "     '7', '6', '6', '10', '6', '6', '7', '10', '9', '10',\n",
        "     '7', '8', '10', '9', '8']\n",
        "         \n",
        "dic = {}\n",
        "\n",
        "for item in lista:\n",
        "    if item not in dic:\n",
        "        dic[item] = 1\n",
        "    else:\n",
        "        dic[item] = dic[item] + 1\n",
        "print(dic)"
      ],
      "execution_count": 147,
      "outputs": [
        {
          "output_type": "stream",
          "text": [
            "{'7': 6, '9': 4, '6': 5, '5': 1, '10': 6, '8': 3}\n"
          ],
          "name": "stdout"
        }
      ]
    },
    {
      "cell_type": "code",
      "metadata": {
        "colab": {
          "base_uri": "https://localhost:8080/",
          "height": 231
        },
        "id": "lCaRdLCb-urx",
        "outputId": "e7502f8d-7168-4cb2-9442-919d7983409d"
      },
      "source": [
        "f = open(\"caminho/para/arquivo.csv\", \"r\")\n",
        "\n",
        "leitura = f.read()\n",
        "\n",
        "dados = []\n",
        "for x in leitura.split(\"\\n\"):\n",
        "    dados.append(x.split(\",\"))\n",
        "\n",
        "f.close()"
      ],
      "execution_count": 148,
      "outputs": [
        {
          "output_type": "error",
          "ename": "FileNotFoundError",
          "evalue": "ignored",
          "traceback": [
            "\u001b[0;31m---------------------------------------------------------------------------\u001b[0m",
            "\u001b[0;31mFileNotFoundError\u001b[0m                         Traceback (most recent call last)",
            "\u001b[0;32m<ipython-input-148-ace6ff13ac5d>\u001b[0m in \u001b[0;36m<module>\u001b[0;34m()\u001b[0m\n\u001b[0;32m----> 1\u001b[0;31m \u001b[0mf\u001b[0m \u001b[0;34m=\u001b[0m \u001b[0mopen\u001b[0m\u001b[0;34m(\u001b[0m\u001b[0;34m\"caminho/para/arquivo.csv\"\u001b[0m\u001b[0;34m,\u001b[0m \u001b[0;34m\"r\"\u001b[0m\u001b[0;34m)\u001b[0m\u001b[0;34m\u001b[0m\u001b[0;34m\u001b[0m\u001b[0m\n\u001b[0m\u001b[1;32m      2\u001b[0m \u001b[0;34m\u001b[0m\u001b[0m\n\u001b[1;32m      3\u001b[0m \u001b[0mleitura\u001b[0m \u001b[0;34m=\u001b[0m \u001b[0mf\u001b[0m\u001b[0;34m.\u001b[0m\u001b[0mread\u001b[0m\u001b[0;34m(\u001b[0m\u001b[0;34m)\u001b[0m\u001b[0;34m\u001b[0m\u001b[0;34m\u001b[0m\u001b[0m\n\u001b[1;32m      4\u001b[0m \u001b[0;34m\u001b[0m\u001b[0m\n\u001b[1;32m      5\u001b[0m \u001b[0mdados\u001b[0m \u001b[0;34m=\u001b[0m \u001b[0;34m[\u001b[0m\u001b[0;34m]\u001b[0m\u001b[0;34m\u001b[0m\u001b[0;34m\u001b[0m\u001b[0m\n",
            "\u001b[0;31mFileNotFoundError\u001b[0m: [Errno 2] No such file or directory: 'caminho/para/arquivo.csv'"
          ]
        }
      ]
    }
  ]
}